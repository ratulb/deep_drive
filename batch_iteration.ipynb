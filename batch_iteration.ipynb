{
  "cells": [
    {
      "cell_type": "markdown",
      "metadata": {
        "id": "view-in-github",
        "colab_type": "text"
      },
      "source": [
        "<a href=\"https://colab.research.google.com/github/ratulb/deep_drive/blob/main/batch_iteration.ipynb\" target=\"_parent\"><img src=\"https://colab.research.google.com/assets/colab-badge.svg\" alt=\"Open In Colab\"/></a>"
      ]
    },
    {
      "cell_type": "markdown",
      "source": [
        "# The correct way  to iterate dataset samples with batch\n",
        "\n",
        "Given a dataset containing $\\text{num_samples}$ of rows, if we want to process the samples in batches of size $\\text{batch_size}$, we have 3 cases to handle:\n",
        "\n",
        "1.   $\\text{batch_size} < \\text{num_samples}$\n",
        "2.   $\\text{batch_size} = \\text{num_samples}$\n",
        "3.   $\\text{batch_size} > \\text{num_samples}$\n",
        "\n",
        "For case 1 and 2, we want to make sure that we loop only once.\n"
      ],
      "metadata": {
        "id": "VDozADpQ1-9U"
      }
    },
    {
      "cell_type": "code",
      "source": [
        "print('num_samples < batch_size')\n",
        "num_samples = 19\n",
        "batch_size = 20\n",
        "for i in range(num_samples // batch_size):\n",
        "    start = i * batch_size\n",
        "    end = start + batch_size\n",
        "    print(start, end)\n",
        "\n",
        "\n",
        "print('\\nnum_samples == batch_size')\n",
        "num_samples = 20\n",
        "batch_size = 20\n",
        "for i in range(num_samples // batch_size):\n",
        "    start = i * batch_size\n",
        "    end = start + batch_size\n",
        "    print(start, end)\n",
        "\n",
        "print('\\nnum_samples > batch_size')\n",
        "num_samples = 21\n",
        "batch_size = 20\n",
        "for i in range(num_samples // batch_size):\n",
        "    start = i * batch_size\n",
        "    end = start + batch_size\n",
        "    print(start, end)"
      ],
      "metadata": {
        "colab": {
          "base_uri": "https://localhost:8080/"
        },
        "id": "Dpkhs63PvF70",
        "outputId": "c271bc18-b7b8-4d1e-be1f-b53d22467e3c"
      },
      "execution_count": 1,
      "outputs": [
        {
          "output_type": "stream",
          "name": "stdout",
          "text": [
            "num_samples < batch_size\n",
            "\n",
            "num_samples == batch_size\n",
            "0 20\n",
            "\n",
            "num_samples > batch_size\n",
            "0 20\n"
          ]
        }
      ]
    },
    {
      "cell_type": "markdown",
      "source": [
        "###We see that with 'for i in range (num_samples // batch_size)' - fails case 1 and misses 1 iteration(which should include remaining samples) when num_samples is greater than batch_size.\n"
      ],
      "metadata": {
        "id": "kYy5gNc1CMXn"
      }
    },
    {
      "cell_type": "code",
      "source": [
        "print('num_samples < batch_size')\n",
        "num_samples = 19\n",
        "batch_size = 20\n",
        "for i in range(num_samples // batch_size + 1):\n",
        "    start = i * batch_size\n",
        "    end = start + batch_size\n",
        "    print(start, end)\n",
        "\n",
        "print('\\nnum_samples == batch_size')\n",
        "num_samples = 20\n",
        "batch_size = 20\n",
        "for i in range(num_samples // batch_size + 1):\n",
        "    start = i * batch_size\n",
        "    end = start + batch_size\n",
        "    print(start, end)\n",
        "\n",
        "print('\\nnum_samples > batch_size')\n",
        "num_samples = 21\n",
        "batch_size = 20\n",
        "for i in range(num_samples // batch_size + 1):\n",
        "    start = i * batch_size\n",
        "    end = start + batch_size\n",
        "    print(start, end)"
      ],
      "metadata": {
        "colab": {
          "base_uri": "https://localhost:8080/"
        },
        "id": "qJstQZkNGbVv",
        "outputId": "33946a7b-ff9b-44e2-d609-f077d0fa2c75"
      },
      "execution_count": 2,
      "outputs": [
        {
          "output_type": "stream",
          "name": "stdout",
          "text": [
            "num_samples < batch_size\n",
            "0 20\n",
            "\n",
            "num_samples == batch_size\n",
            "0 20\n",
            "20 40\n",
            "\n",
            "num_samples > batch_size\n",
            "0 20\n",
            "20 40\n"
          ]
        }
      ]
    },
    {
      "cell_type": "markdown",
      "source": [
        "### Changing it to 'for i in range (num_samples // batch_size + 1)' - leads to an extra iteration when num_samples == batch_size."
      ],
      "metadata": {
        "id": "Q1RgdvbQGtqO"
      }
    },
    {
      "cell_type": "markdown",
      "source": [
        "###Let's change it to 'for i in range ((num_samples - 1) // batch_size + 1)' - see the results."
      ],
      "metadata": {
        "id": "suqP9zbwOE2h"
      }
    },
    {
      "cell_type": "code",
      "source": [
        "print('num_samples < batch_size')\n",
        "num_samples = 19\n",
        "batch_size = 20\n",
        "for i in range((num_samples -1) // batch_size + 1):\n",
        "    start = i * batch_size\n",
        "    end = start + batch_size\n",
        "    print(start, end)\n",
        "\n",
        "print('\\nnum_samples == batch_size')\n",
        "num_samples = 20\n",
        "batch_size = 20\n",
        "for i in range((num_samples - 1) // batch_size + 1):\n",
        "    start = i * batch_size\n",
        "    end = start + batch_size\n",
        "    print(start, end)\n",
        "\n",
        "print('\\nnum_samples > batch_size')\n",
        "num_samples = 21\n",
        "batch_size = 20\n",
        "for i in range((num_samples -1) // batch_size + 1):\n",
        "    start = i * batch_size\n",
        "    end = start + batch_size\n",
        "    print(start, end)"
      ],
      "metadata": {
        "colab": {
          "base_uri": "https://localhost:8080/"
        },
        "id": "47CYPGKBOcRI",
        "outputId": "963898ed-3987-42c2-e559-c833de5a4574"
      },
      "execution_count": 3,
      "outputs": [
        {
          "output_type": "stream",
          "name": "stdout",
          "text": [
            "num_samples < batch_size\n",
            "0 20\n",
            "\n",
            "num_samples == batch_size\n",
            "0 20\n",
            "\n",
            "num_samples > batch_size\n",
            "0 20\n",
            "20 40\n"
          ]
        }
      ]
    },
    {
      "cell_type": "markdown",
      "source": [
        "## &#x2705;We see that 'for i in range((num_samples -1) // batch_size + 1)' handles all the 3 cases correctly!"
      ],
      "metadata": {
        "id": "rQ8h01HxO66R"
      }
    }
  ],
  "metadata": {
    "colab": {
      "provenance": [],
      "include_colab_link": true
    },
    "kernelspec": {
      "display_name": "Python 3",
      "name": "python3"
    },
    "language_info": {
      "name": "python"
    }
  },
  "nbformat": 4,
  "nbformat_minor": 0
}